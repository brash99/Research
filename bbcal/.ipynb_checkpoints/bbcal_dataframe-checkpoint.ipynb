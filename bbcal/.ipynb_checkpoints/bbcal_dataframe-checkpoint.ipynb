{
 "cells": [
  {
   "cell_type": "code",
   "execution_count": 2,
   "metadata": {},
   "outputs": [],
   "source": [
    "# import libraries\n",
    "\n",
    "import numpy as np\n",
    "import matplotlib.pyplot as plt\n",
    "import uproot\n",
    "import awkward\n",
    "import pandas as pd"
   ]
  },
  {
   "cell_type": "code",
   "execution_count": 3,
   "metadata": {},
   "outputs": [],
   "source": [
    "file = uproot.open('bbcal_232.root')"
   ]
  },
  {
   "cell_type": "code",
   "execution_count": 4,
   "metadata": {},
   "outputs": [
    {
     "data": {
      "text/plain": [
       "{'Run_Data': 'TNamed', 'T': 'TTree'}"
      ]
     },
     "execution_count": 4,
     "metadata": {},
     "output_type": "execute_result"
    }
   ],
   "source": [
    "file.classnames()"
   ]
  },
  {
   "cell_type": "code",
   "execution_count": 5,
   "metadata": {},
   "outputs": [
    {
     "data": {
      "text/plain": [
       "<TTree 'T' (39 branches) at 0x7f0a664b90b8>"
      ]
     },
     "execution_count": 5,
     "metadata": {},
     "output_type": "execute_result"
    }
   ],
   "source": [
    "T = file['T']\n",
    "T"
   ]
  },
  {
   "cell_type": "code",
   "execution_count": 6,
   "metadata": {},
   "outputs": [
    {
     "name": "stdout",
     "output_type": "stream",
     "text": [
      "name                 | typename                 | interpretation                \n",
      "---------------------+--------------------------+-------------------------------\n",
      "Ndata.bb.ps.a        | int32_t                  | AsDtype('>i4')\n",
      "bb.ps.a              | double[]                 | AsJagged(AsDtype('>f8'))\n",
      "Ndata.bb.ps.a_c      | int32_t                  | AsDtype('>i4')\n",
      "bb.ps.a_c            | double[]                 | AsJagged(AsDtype('>f8'))\n",
      "Ndata.bb.ps.a_p      | int32_t                  | AsDtype('>i4')\n",
      "bb.ps.a_p            | double[]                 | AsJagged(AsDtype('>f8'))\n",
      "Ndata.bb.ps.eblk     | int32_t                  | AsDtype('>i4')\n",
      "bb.ps.eblk           | double[]                 | AsJagged(AsDtype('>f8'))\n",
      "Ndata.bb.ps.nblk     | int32_t                  | AsDtype('>i4')\n",
      "bb.ps.nblk           | double[]                 | AsJagged(AsDtype('>f8'))\n",
      "Ndata.bb.sh.a        | int32_t                  | AsDtype('>i4')\n",
      "bb.sh.a              | double[]                 | AsJagged(AsDtype('>f8'))\n",
      "Ndata.bb.sh.a_c      | int32_t                  | AsDtype('>i4')\n",
      "bb.sh.a_c            | double[]                 | AsJagged(AsDtype('>f8'))\n",
      "Ndata.bb.sh.a_p      | int32_t                  | AsDtype('>i4')\n",
      "bb.sh.a_p            | double[]                 | AsJagged(AsDtype('>f8'))\n",
      "Ndata.bb.sh.eblk     | int32_t                  | AsDtype('>i4')\n",
      "bb.sh.eblk           | double[]                 | AsJagged(AsDtype('>f8'))\n",
      "Ndata.bb.sh.nblk     | int32_t                  | AsDtype('>i4')\n",
      "bb.sh.nblk           | double[]                 | AsJagged(AsDtype('>f8'))\n",
      "bb.ps.asum_c         | double                   | AsDtype('>f8')\n",
      "bb.ps.asum_p         | double                   | AsDtype('>f8')\n",
      "bb.ps.e              | double                   | AsDtype('>f8')\n",
      "bb.ps.e_c            | double                   | AsDtype('>f8')\n",
      "bb.ps.mult           | double                   | AsDtype('>f8')\n",
      "bb.ps.nclust         | double                   | AsDtype('>f8')\n",
      "bb.ps.nhit           | double                   | AsDtype('>f8')\n",
      "bb.ps.x              | double                   | AsDtype('>f8')\n",
      "bb.ps.y              | double                   | AsDtype('>f8')\n",
      "bb.sh.asum_c         | double                   | AsDtype('>f8')\n",
      "bb.sh.asum_p         | double                   | AsDtype('>f8')\n",
      "bb.sh.e              | double                   | AsDtype('>f8')\n",
      "bb.sh.e_c            | double                   | AsDtype('>f8')\n",
      "bb.sh.mult           | double                   | AsDtype('>f8')\n",
      "bb.sh.nclust         | double                   | AsDtype('>f8')\n",
      "bb.sh.nhit           | double                   | AsDtype('>f8')\n",
      "bb.sh.x              | double                   | AsDtype('>f8')\n",
      "bb.sh.y              | double                   | AsDtype('>f8')\n",
      "Event_Branch         | THaEvent                 | AsGroup(<TBranchElement 'Ev...\n",
      "Event_Branch/fEvtHdr | THaEventHeader           | AsGroup(<TBranchElement 'fE...\n",
      "Event_Branch/fEvt... | uint64_t                 | AsDtype('>u8')\n",
      "Event_Branch/fEvt... | uint32_t                 | AsDtype('>u4')\n",
      "Event_Branch/fEvt... | int32_t                  | AsDtype('>i4')\n",
      "Event_Branch/fEvt... | int32_t                  | AsDtype('>i4')\n",
      "Event_Branch/fEvt... | int32_t                  | AsDtype('>i4')\n",
      "Event_Branch/fEvt... | int32_t                  | AsDtype('>i4')\n",
      "Event_Branch/fEvt... | int32_t                  | AsDtype('>i4')\n"
     ]
    }
   ],
   "source": [
    "T.show()"
   ]
  },
  {
   "cell_type": "code",
   "execution_count": 7,
   "metadata": {},
   "outputs": [],
   "source": [
    "# First, convert the branch of the tree that one is\n",
    "# interested in into a numpy array\n",
    "\n",
    "bb_ps_a = T[\"bb.ps.a\"].array(library=\"np\")\n",
    "\n",
    "# Then, convert that numpy array into a pandas dataframe\n",
    "\n",
    "df_bb_ps_a = pd.DataFrame(bb_ps_a,columns=[\"bb_ps_a\"])\n",
    "\n",
    "# Finally, for branches which are actually multidimensional arrays,\n",
    "# convert each element of the array into a separate column in the\n",
    "# dataframe\n",
    "\n",
    "df_bb_ps_a = pd.DataFrame(df_bb_ps_a.bb_ps_a.tolist(), index= df_bb_ps_a.index)\n"
   ]
  },
  {
   "cell_type": "code",
   "execution_count": 8,
   "metadata": {},
   "outputs": [
    {
     "name": "stdout",
     "output_type": "stream",
     "text": [
      "<class 'pandas.core.frame.DataFrame'>\n",
      "RangeIndex: 342395 entries, 0 to 342394\n",
      "Data columns (total 54 columns):\n",
      " #   Column  Non-Null Count   Dtype  \n",
      "---  ------  --------------   -----  \n",
      " 0   0       342395 non-null  float64\n",
      " 1   1       342395 non-null  float64\n",
      " 2   2       342395 non-null  float64\n",
      " 3   3       342395 non-null  float64\n",
      " 4   4       342395 non-null  float64\n",
      " 5   5       342395 non-null  float64\n",
      " 6   6       342395 non-null  float64\n",
      " 7   7       342395 non-null  float64\n",
      " 8   8       342395 non-null  float64\n",
      " 9   9       342395 non-null  float64\n",
      " 10  10      342395 non-null  float64\n",
      " 11  11      342395 non-null  float64\n",
      " 12  12      342395 non-null  float64\n",
      " 13  13      342395 non-null  float64\n",
      " 14  14      342395 non-null  float64\n",
      " 15  15      342395 non-null  float64\n",
      " 16  16      342395 non-null  float64\n",
      " 17  17      342395 non-null  float64\n",
      " 18  18      342395 non-null  float64\n",
      " 19  19      342395 non-null  float64\n",
      " 20  20      342395 non-null  float64\n",
      " 21  21      342395 non-null  float64\n",
      " 22  22      342395 non-null  float64\n",
      " 23  23      342395 non-null  float64\n",
      " 24  24      342395 non-null  float64\n",
      " 25  25      342395 non-null  float64\n",
      " 26  26      342395 non-null  float64\n",
      " 27  27      342395 non-null  float64\n",
      " 28  28      342395 non-null  float64\n",
      " 29  29      342395 non-null  float64\n",
      " 30  30      342395 non-null  float64\n",
      " 31  31      342395 non-null  float64\n",
      " 32  32      342395 non-null  float64\n",
      " 33  33      342395 non-null  float64\n",
      " 34  34      342395 non-null  float64\n",
      " 35  35      342395 non-null  float64\n",
      " 36  36      342395 non-null  float64\n",
      " 37  37      342395 non-null  float64\n",
      " 38  38      342395 non-null  float64\n",
      " 39  39      342395 non-null  float64\n",
      " 40  40      342395 non-null  float64\n",
      " 41  41      342395 non-null  float64\n",
      " 42  42      342395 non-null  float64\n",
      " 43  43      342395 non-null  float64\n",
      " 44  44      342395 non-null  float64\n",
      " 45  45      342395 non-null  float64\n",
      " 46  46      342395 non-null  float64\n",
      " 47  47      342395 non-null  float64\n",
      " 48  48      342395 non-null  float64\n",
      " 49  49      342395 non-null  float64\n",
      " 50  50      342395 non-null  float64\n",
      " 51  51      342395 non-null  float64\n",
      " 52  52      342395 non-null  float64\n",
      " 53  53      342395 non-null  float64\n",
      "dtypes: float64(54)\n",
      "memory usage: 141.1 MB\n"
     ]
    }
   ],
   "source": [
    "df_bb_ps_a.info() \n",
    "\n",
    "# one should see that there are 54 columns, one for each block\n",
    "# in the preshower (at least I am guessing that is what they are)"
   ]
  },
  {
   "cell_type": "code",
   "execution_count": 9,
   "metadata": {},
   "outputs": [
    {
     "data": {
      "text/plain": [
       "(array([  0.,   0.,   0.,   0.,   0.,   0.,   0.,   0.,   0.,   0.,   0.,\n",
       "          0.,   0.,   0.,   0.,   0.,   0.,   0.,   0.,   0.,   0.,   0.,\n",
       "          0.,   0.,   0.,   0.,   0.,   0.,   0.,   0.,   0.,   0.,   0.,\n",
       "          0.,   0.,   0.,   0.,   0.,   0.,   0.,   0.,   0.,   0.,   0.,\n",
       "          0.,  33., 262., 486., 178.,  35.,   1.,   1.,   1.,   0.,   1.,\n",
       "          0.,   1.,   0.,   0.,   0.,   0.,   0.,   0.,   0.,   0.,   0.,\n",
       "          0.,   0.,   0.,   0.,   0.,   0.,   0.,   0.,   0.,   0.,   0.,\n",
       "          0.,   0.,   0.,   0.,   0.,   0.,   0.,   0.,   0.,   0.,   0.,\n",
       "          0.,   0.,   0.,   0.,   0.,   0.,   0.,   0.,   0.,   0.,   0.,\n",
       "          0.]),\n",
       " array([400., 404., 408., 412., 416., 420., 424., 428., 432., 436., 440.,\n",
       "        444., 448., 452., 456., 460., 464., 468., 472., 476., 480., 484.,\n",
       "        488., 492., 496., 500., 504., 508., 512., 516., 520., 524., 528.,\n",
       "        532., 536., 540., 544., 548., 552., 556., 560., 564., 568., 572.,\n",
       "        576., 580., 584., 588., 592., 596., 600., 604., 608., 612., 616.,\n",
       "        620., 624., 628., 632., 636., 640., 644., 648., 652., 656., 660.,\n",
       "        664., 668., 672., 676., 680., 684., 688., 692., 696., 700., 704.,\n",
       "        708., 712., 716., 720., 724., 728., 732., 736., 740., 744., 748.,\n",
       "        752., 756., 760., 764., 768., 772., 776., 780., 784., 788., 792.,\n",
       "        796., 800.]),\n",
       " <a list of 100 Patch objects>)"
      ]
     },
     "execution_count": 9,
     "metadata": {},
     "output_type": "execute_result"
    },
    {
     "data": {
      "image/png": "[encoded data removed]",
      "text/plain": [
       "<Figure size 432x288 with 1 Axes>"
      ]
     },
     "metadata": {
      "needs_background": "light"
     },
     "output_type": "display_data"
    }
   ],
   "source": [
    "# plot histogram of raw adc for one of the blocks (block 0) for the\n",
    "# first 1000 events.  Make the histogram 100 bins, from 400 to 800\n",
    "\n",
    "plt.hist(df_bb_ps_a[0][0:1000],bins=100,range=(400,800))"
   ]
  },
  {
   "cell_type": "code",
   "execution_count": 10,
   "metadata": {},
   "outputs": [
    {
     "data": {
      "image/png": "[encoded data removed]",
      "text/plain": [
       "<Figure size 504x1512 with 42 Axes>"
      ]
     },
     "metadata": {
      "needs_background": "light"
     },
     "output_type": "display_data"
    }
   ],
   "source": [
    "# plot histograms of raw adc for all of the blocks for the\n",
    "# first 10000 events.  Make the histogram 100 bins, from 400 to 800\n",
    "\n",
    "fig, axs = plt.subplots(14, 3,figsize=(7,21))\n",
    "for i in range(14):\n",
    "    for j in range(3):\n",
    "        axs[i][j].hist(df_bb_ps_a[3*i+j][0:10000],bins=100,range=(400,800))"
   ]
  },
  {
   "cell_type": "code",
   "execution_count": 30,
   "metadata": {},
   "outputs": [],
   "source": [
    "bb_ps = T.arrays([\"bb.ps.asum_c\",\"bb.ps.asum_p\",\"bb.ps.e\",\"bb.ps.mult\",\"bb.ps.nclust\",\"bb.ps.nhit\",\"bb.ps.x\",\"bb.ps.y\"],library=\"pd\")"
   ]
  },
  {
   "cell_type": "code",
   "execution_count": 40,
   "metadata": {},
   "outputs": [
    {
     "data": {
      "text/plain": [
       "(array([65., 45., 39., 27., 36., 28., 34., 33., 28., 45., 42., 47., 50.,\n",
       "        46., 63., 52., 45., 28., 36., 34., 33., 31., 34., 36., 40., 43.,\n",
       "        35., 37., 25., 33., 24., 27., 28., 27., 21., 18., 20., 21., 21.,\n",
       "        28., 21., 16., 15., 22., 25., 18., 17., 10., 16., 16., 11., 10.,\n",
       "         9.,  8.,  5.,  3., 13.,  5.,  6., 11., 17.,  7.,  9.,  9.,  7.,\n",
       "         6., 11.,  5.,  9.,  5.,  5.,  3.,  4.,  5.,  6.,  4.,  2.,  2.,\n",
       "         4.,  5.,  2.,  3.,  1.,  6.,  1.,  1.,  2.,  1.,  2.,  1.,  2.,\n",
       "         1.,  0.,  1.,  3.,  1.,  1.,  0.,  2.,  0.]),\n",
       " array([ 100.,  149.,  198.,  247.,  296.,  345.,  394.,  443.,  492.,\n",
       "         541.,  590.,  639.,  688.,  737.,  786.,  835.,  884.,  933.,\n",
       "         982., 1031., 1080., 1129., 1178., 1227., 1276., 1325., 1374.,\n",
       "        1423., 1472., 1521., 1570., 1619., 1668., 1717., 1766., 1815.,\n",
       "        1864., 1913., 1962., 2011., 2060., 2109., 2158., 2207., 2256.,\n",
       "        2305., 2354., 2403., 2452., 2501., 2550., 2599., 2648., 2697.,\n",
       "        2746., 2795., 2844., 2893., 2942., 2991., 3040., 3089., 3138.,\n",
       "        3187., 3236., 3285., 3334., 3383., 3432., 3481., 3530., 3579.,\n",
       "        3628., 3677., 3726., 3775., 3824., 3873., 3922., 3971., 4020.,\n",
       "        4069., 4118., 4167., 4216., 4265., 4314., 4363., 4412., 4461.,\n",
       "        4510., 4559., 4608., 4657., 4706., 4755., 4804., 4853., 4902.,\n",
       "        4951., 5000.]),\n",
       " <a list of 100 Patch objects>)"
      ]
     },
     "execution_count": 40,
     "metadata": {},
     "output_type": "execute_result"
    },
    {
     "data": {
      "image/png": "[encoded data removed]",
      "text/plain": [
       "<Figure size 432x288 with 1 Axes>"
      ]
     },
     "metadata": {
      "needs_background": "light"
     },
     "output_type": "display_data"
    }
   ],
   "source": [
    "plt.hist(bb_ps[\"bb.ps.asum_c\"][0:10000],bins=100,range=(100,5000))"
   ]
  },
  {
   "cell_type": "code",
   "execution_count": 41,
   "metadata": {},
   "outputs": [
    {
     "data": {
      "text/plain": [
       "(array([65., 45., 39., 27., 36., 28., 34., 33., 28., 45., 42., 47., 50.,\n",
       "        46., 63., 52., 45., 28., 36., 34., 33., 31., 34., 36., 40., 43.,\n",
       "        35., 37., 25., 33., 24., 27., 28., 27., 21., 18., 20., 21., 21.,\n",
       "        28., 21., 16., 15., 22., 25., 18., 17., 10., 16., 16., 11., 10.,\n",
       "         9.,  8.,  5.,  3., 13.,  5.,  6., 11., 17.,  7.,  9.,  9.,  7.,\n",
       "         6., 11.,  5.,  9.,  5.,  5.,  3.,  4.,  5.,  6.,  4.,  2.,  2.,\n",
       "         4.,  5.,  2.,  3.,  1.,  6.,  1.,  1.,  2.,  1.,  2.,  1.,  2.,\n",
       "         1.,  0.,  1.,  3.,  1.,  1.,  0.,  2.,  0.]),\n",
       " array([ 100.,  149.,  198.,  247.,  296.,  345.,  394.,  443.,  492.,\n",
       "         541.,  590.,  639.,  688.,  737.,  786.,  835.,  884.,  933.,\n",
       "         982., 1031., 1080., 1129., 1178., 1227., 1276., 1325., 1374.,\n",
       "        1423., 1472., 1521., 1570., 1619., 1668., 1717., 1766., 1815.,\n",
       "        1864., 1913., 1962., 2011., 2060., 2109., 2158., 2207., 2256.,\n",
       "        2305., 2354., 2403., 2452., 2501., 2550., 2599., 2648., 2697.,\n",
       "        2746., 2795., 2844., 2893., 2942., 2991., 3040., 3089., 3138.,\n",
       "        3187., 3236., 3285., 3334., 3383., 3432., 3481., 3530., 3579.,\n",
       "        3628., 3677., 3726., 3775., 3824., 3873., 3922., 3971., 4020.,\n",
       "        4069., 4118., 4167., 4216., 4265., 4314., 4363., 4412., 4461.,\n",
       "        4510., 4559., 4608., 4657., 4706., 4755., 4804., 4853., 4902.,\n",
       "        4951., 5000.]),\n",
       " <a list of 100 Patch objects>)"
      ]
     },
     "execution_count": 41,
     "metadata": {},
     "output_type": "execute_result"
    },
    {
     "data": {
      "image/png": "[encoded data removed]",
      "text/plain": [
       "<Figure size 432x288 with 1 Axes>"
      ]
     },
     "metadata": {
      "needs_background": "light"
     },
     "output_type": "display_data"
    }
   ],
   "source": [
    "plt.hist(bb_ps[\"bb.ps.asum_c\"][0:10000],bins=100,range=(100,5000))"
   ]
  },
  {
   "cell_type": "code",
   "execution_count": 47,
   "metadata": {},
   "outputs": [
    {
     "data": {
      "text/plain": [
       "(array([     0.,      0.,      0.,      0.,      0., 100000.,      0.,\n",
       "             0.,      0.,      0.]),\n",
       " array([53.5, 53.6, 53.7, 53.8, 53.9, 54. , 54.1, 54.2, 54.3, 54.4, 54.5]),\n",
       " <a list of 10 Patch objects>)"
      ]
     },
     "execution_count": 47,
     "metadata": {},
     "output_type": "execute_result"
    },
    {
     "data": {
      "image/png": "[encoded data removed]",
      "text/plain": [
       "<Figure size 432x288 with 1 Axes>"
      ]
     },
     "metadata": {
      "needs_background": "light"
     },
     "output_type": "display_data"
    }
   ],
   "source": [
    "plt.hist(bb_ps[\"bb.ps.nhit\"][0:100000],bins=10)"
   ]
  },
  {
   "cell_type": "code",
   "execution_count": 48,
   "metadata": {},
   "outputs": [
    {
     "data": {
      "text/plain": [
       "(array([     0.,      0.,      0.,      0.,      0., 100000.,      0.,\n",
       "             0.,      0.,      0.]),\n",
       " array([-0.5, -0.4, -0.3, -0.2, -0.1,  0. ,  0.1,  0.2,  0.3,  0.4,  0.5]),\n",
       " <a list of 10 Patch objects>)"
      ]
     },
     "execution_count": 48,
     "metadata": {},
     "output_type": "execute_result"
    },
    {
     "data": {
      "image/png": "[encoded data removed]",
      "text/plain": [
       "<Figure size 432x288 with 1 Axes>"
      ]
     },
     "metadata": {
      "needs_background": "light"
     },
     "output_type": "display_data"
    }
   ],
   "source": [
    "plt.hist(bb_ps[\"bb.ps.mult\"][0:100000],bins=10)"
   ]
  },
  {
   "cell_type": "code",
   "execution_count": null,
   "metadata": {},
   "outputs": [],
   "source": []
  },
  {
   "cell_type": "code",
   "execution_count": null,
   "metadata": {},
   "outputs": [],
   "source": []
  }
 ],
 "metadata": {
  "kernelspec": {
   "display_name": "Python 3",
   "language": "python",
   "name": "python3"
  },
  "language_info": {
   "codemirror_mode": {
    "name": "ipython",
    "version": 3
   },
   "file_extension": ".py",
   "mimetype": "text/x-python",
   "name": "python",
   "nbconvert_exporter": "python",
   "pygments_lexer": "ipython3",
   "version": "3.6.8"
  }
 },
 "nbformat": 4,
 "nbformat_minor": 4
}
